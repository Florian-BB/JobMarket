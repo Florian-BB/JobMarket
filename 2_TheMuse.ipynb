{
 "cells": [
  {
   "cell_type": "markdown",
   "metadata": {},
   "source": [
    "Récupération sur the muse"
   ]
  },
  {
   "cell_type": "code",
   "execution_count": 7,
   "metadata": {},
   "outputs": [
    {
     "name": "stdout",
     "output_type": "stream",
     "text": [
      "200  pour la page  1\n",
      "200  pour la page  2\n",
      "200  pour la page  3\n",
      "200  pour la page  4\n",
      "200  pour la page  5\n",
      "200  pour la page  6\n",
      "200  pour la page  7\n",
      "200  pour la page  8\n",
      "200  pour la page  9\n",
      "200  pour la page  10\n",
      "200  pour la page  11\n",
      "200  pour la page  12\n",
      "200  pour la page  13\n",
      "200  pour la page  14\n",
      "200  pour la page  15\n",
      "200  pour la page  16\n",
      "200  pour la page  17\n",
      "200  pour la page  18\n",
      "200  pour la page  19\n",
      "200  pour la page  20\n",
      "200  pour la page  21\n",
      "200  pour la page  22\n",
      "200  pour la page  23\n",
      "200  pour la page  24\n",
      "200  pour la page  25\n",
      "200  pour la page  26\n",
      "200  pour la page  27\n",
      "200  pour la page  28\n",
      "200  pour la page  29\n",
      "200  pour la page  30\n",
      "200  pour la page  31\n",
      "200  pour la page  32\n",
      "200  pour la page  33\n",
      "200  pour la page  34\n",
      "200  pour la page  35\n",
      "200  pour la page  36\n",
      "200  pour la page  37\n",
      "200  pour la page  38\n",
      "200  pour la page  39\n",
      "200  pour la page  40\n",
      "200  pour la page  41\n",
      "200  pour la page  42\n",
      "200  pour la page  43\n",
      "200  pour la page  44\n",
      "200  pour la page  45\n",
      "200  pour la page  46\n",
      "200  pour la page  47\n",
      "200  pour la page  48\n",
      "200  pour la page  49\n",
      "200  pour la page  50\n",
      "200  pour la page  51\n",
      "200  pour la page  52\n",
      "200  pour la page  53\n",
      "200  pour la page  54\n",
      "200  pour la page  55\n",
      "200  pour la page  56\n",
      "200  pour la page  57\n",
      "200  pour la page  58\n",
      "200  pour la page  59\n",
      "200  pour la page  60\n",
      "200  pour la page  61\n",
      "200  pour la page  62\n",
      "200  pour la page  63\n",
      "200  pour la page  64\n",
      "200  pour la page  65\n",
      "200  pour la page  66\n",
      "200  pour la page  67\n",
      "200  pour la page  68\n",
      "200  pour la page  69\n",
      "200  pour la page  70\n",
      "200  pour la page  71\n",
      "200  pour la page  72\n",
      "200  pour la page  73\n",
      "200  pour la page  74\n",
      "200  pour la page  75\n",
      "200  pour la page  76\n",
      "200  pour la page  77\n",
      "200  pour la page  78\n",
      "200  pour la page  79\n",
      "200  pour la page  80\n",
      "200  pour la page  81\n",
      "200  pour la page  82\n",
      "200  pour la page  83\n",
      "200  pour la page  84\n",
      "200  pour la page  85\n",
      "200  pour la page  86\n",
      "200  pour la page  87\n",
      "200  pour la page  88\n",
      "200  pour la page  89\n",
      "200  pour la page  90\n",
      "200  pour la page  91\n",
      "200  pour la page  92\n",
      "200  pour la page  93\n",
      "200  pour la page  94\n",
      "200  pour la page  95\n",
      "200  pour la page  96\n",
      "200  pour la page  97\n",
      "200  pour la page  98\n",
      "200  pour la page  99\n",
      "400  pour la page  100\n"
     ]
    }
   ],
   "source": [
    "import requests\n",
    "results = []\n",
    "for page in range(1, 101):\n",
    "        url = \"https://www.themuse.com/api/public/jobs?page={}\".format(page)\n",
    "        req = requests.get(url)\n",
    "        if req.status_code == 200: # Si réponse positive, alors on récupère les données\n",
    "            try:\n",
    "                data = req.json()\n",
    "                results.append(data[\"results\"])\n",
    "            except:\n",
    "                print(req.status_code, \" pour la page \", page)\n",
    "            else:\n",
    "                print(req.status_code, \" pour la page \", page)\n",
    "        \n",
    "        else :\n",
    "            print(req.status_code, \" pour la page \", page)\n",
    "\n"
   ]
  },
  {
   "cell_type": "markdown",
   "metadata": {},
   "source": [
    "Récupération des sociétés"
   ]
  },
  {
   "cell_type": "code",
   "execution_count": 8,
   "metadata": {},
   "outputs": [
    {
     "name": "stdout",
     "output_type": "stream",
     "text": [
      "200  pour la page  1\n",
      "200  pour la page  2\n",
      "200  pour la page  3\n",
      "200  pour la page  4\n",
      "200  pour la page  5\n",
      "200  pour la page  6\n",
      "200  pour la page  7\n",
      "200  pour la page  8\n",
      "200  pour la page  9\n",
      "200  pour la page  10\n"
     ]
    }
   ],
   "source": [
    "\n",
    "companies = []\n",
    "for page in range(1, 11):\n",
    "        url = \"https://www.themuse.com/api/public/companies?page={}\".format(page)\n",
    "        req = requests.get(url)\n",
    "        if req.status_code == 200: # Si réponse positive, alors on récupère les données\n",
    "            try:\n",
    "                data = req.json()\n",
    "                companies.append(data[\"results\"])\n",
    "            except:\n",
    "                print(req.status_code, \" pour la page \", page)\n",
    "            else:\n",
    "                print(req.status_code, \" pour la page \", page)\n",
    "        \n",
    "        else :\n",
    "            print(req.status_code, \" pour la page \", page)\n"
   ]
  },
  {
   "cell_type": "markdown",
   "metadata": {},
   "source": [
    "Affichage des données"
   ]
  },
  {
   "cell_type": "code",
   "execution_count": 6,
   "metadata": {},
   "outputs": [
    {
     "name": "stdout",
     "output_type": "stream",
     "text": [
      "{'id': 12096, 'short_name': 'cvshealth', 'name': 'CVS Health'}\n",
      "{'id': 12096, 'short_name': 'cvshealth', 'name': 'CVS Health'}\n",
      "{'id': 15000190, 'short_name': 'spacex', 'name': 'SpaceX'}\n",
      "{'id': 12096, 'short_name': 'cvshealth', 'name': 'CVS Health'}\n",
      "{'id': 12096, 'short_name': 'cvshealth', 'name': 'CVS Health'}\n",
      "{'id': 11913, 'short_name': 'siemens', 'name': 'Siemens'}\n",
      "{'id': 12096, 'short_name': 'cvshealth', 'name': 'CVS Health'}\n",
      "{'id': 12096, 'short_name': 'cvshealth', 'name': 'CVS Health'}\n",
      "{'id': 12096, 'short_name': 'cvshealth', 'name': 'CVS Health'}\n",
      "{'id': 61, 'short_name': 'uber', 'name': 'Uber'}\n",
      "{'id': 12096, 'short_name': 'cvshealth', 'name': 'CVS Health'}\n",
      "{'id': 11913, 'short_name': 'siemens', 'name': 'Siemens'}\n",
      "{'id': 12096, 'short_name': 'cvshealth', 'name': 'CVS Health'}\n",
      "{'id': 12096, 'short_name': 'cvshealth', 'name': 'CVS Health'}\n",
      "{'id': 11913, 'short_name': 'siemens', 'name': 'Siemens'}\n",
      "{'id': 12096, 'short_name': 'cvshealth', 'name': 'CVS Health'}\n",
      "{'id': 12096, 'short_name': 'cvshealth', 'name': 'CVS Health'}\n",
      "{'id': 12096, 'short_name': 'cvshealth', 'name': 'CVS Health'}\n",
      "{'id': 15000190, 'short_name': 'spacex', 'name': 'SpaceX'}\n",
      "{'id': 12096, 'short_name': 'cvshealth', 'name': 'CVS Health'}\n"
     ]
    }
   ],
   "source": [
    "for r in results:\n",
    "    for j in r:\n",
    "        print(j['company'])"
   ]
  },
  {
   "cell_type": "markdown",
   "metadata": {},
   "source": [
    "Enregistrement des données"
   ]
  },
  {
   "cell_type": "code",
   "execution_count": 11,
   "metadata": {},
   "outputs": [],
   "source": [
    "import json\n",
    "\n",
    "with open(\"themuse_results.json\", \"w\") as outfile:\n",
    "    json.dump(results, outfile)\n",
    "\n",
    "with open(\"themuse_companies.json\", \"w\") as outfile:\n",
    "    json.dump(companies, outfile)"
   ]
  },
  {
   "cell_type": "code",
   "execution_count": 1,
   "metadata": {},
   "outputs": [
    {
     "name": "stdout",
     "output_type": "stream",
     "text": [
      "3167224d947efc7a65386e233e8612e3\n"
     ]
    }
   ],
   "source": [
    "import os\n",
    "key = os.environ.get(\"adzuna\")\n",
    "print(key)"
   ]
  }
 ],
 "metadata": {
  "kernelspec": {
   "display_name": "Python 3",
   "language": "python",
   "name": "python3"
  },
  "language_info": {
   "codemirror_mode": {
    "name": "ipython",
    "version": 3
   },
   "file_extension": ".py",
   "mimetype": "text/x-python",
   "name": "python",
   "nbconvert_exporter": "python",
   "pygments_lexer": "ipython3",
   "version": "3.12.2"
  }
 },
 "nbformat": 4,
 "nbformat_minor": 2
}
