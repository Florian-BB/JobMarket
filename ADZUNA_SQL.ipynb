{
 "cells": [
  {
   "cell_type": "code",
   "execution_count": 31,
   "metadata": {},
   "outputs": [
    {
     "name": "stdout",
     "output_type": "stream",
     "text": [
      "['accounting-finance-jobs', 'it-jobs', 'sales-jobs', 'customer-services-jobs', 'engineering-jobs', 'hr-jobs', 'healthcare-nursing-jobs', 'hospitality-catering-jobs', 'pr-advertising-marketing-jobs', 'logistics-warehouse-jobs', 'teaching-jobs', 'trade-construction-jobs', 'admin-jobs', 'legal-jobs', 'creative-design-jobs', 'graduate-jobs', 'retail-jobs', 'consultancy-jobs', 'manufacturing-jobs', 'scientific-qa-jobs', 'social-work-jobs', 'travel-jobs', 'energy-oil-gas-jobs', 'property-jobs', 'charity-voluntary-jobs', 'domestic-help-cleaning-jobs', 'maintenance-jobs', 'part-time-jobs', 'other-general-jobs', 'unknown']\n"
     ]
    }
   ],
   "source": [
    "import requests\n",
    "import json\n",
    "import os\n",
    "\n",
    "# mettre son appID et sa key puis supprimer.\n",
    "appid = \"a5b42571\"\n",
    "key = os.environ.get(\"api_adzuna\")\n",
    "url = \"http://api.adzuna.com/v1/api/jobs/fr/categories?app_id={0}&app_key={1}&&content-type=application/json\".format(appid, key)\n",
    "req1 = requests.get(url).json()\n",
    "\n",
    "categories = req1[\"results\"]\n",
    "\n",
    "\n",
    "tags = [] # j'initie cette liste qui récupèrera les tags qui correspondent aux catégories\n",
    "\n",
    "for cat in categories:\n",
    "    tags.append(cat[\"tag\"]) # Pour chaque catégorie je récupère son tag\n",
    "\n",
    "print(tags)"
   ]
  },
  {
   "cell_type": "markdown",
   "metadata": {},
   "source": [
    "Connexion à la base de données"
   ]
  },
  {
   "cell_type": "code",
   "execution_count": 21,
   "metadata": {},
   "outputs": [],
   "source": [
    "from sqlalchemy import create_engine, MetaData, text\n",
    "\n",
    "username = \"ff\"\n",
    "password = os.environ.get(\"mysql_ff_jobmarket\")\n",
    "hostname = \"52.31.100.105\"\n",
    "port = \"3306\"\n",
    "database_name = \"jobmarket\"\n",
    "\n",
    "db_url = f\"mysql+mysqlconnector://{username}:{password}@{hostname}:{port}/{database_name}\"\n",
    "metadata = MetaData()\n",
    "engine = create_engine(db_url)\n",
    "\n"
   ]
  },
  {
   "cell_type": "markdown",
   "metadata": {},
   "source": [
    "Création de la base de données"
   ]
  },
  {
   "cell_type": "code",
   "execution_count": 22,
   "metadata": {},
   "outputs": [],
   "source": [
    "with engine.connect() as connection:\n",
    "    connection.execute(text(\"CREATE TABLE POSTES (id bigint PRIMARY KEY,nom_poste varchar(255),date_creation datetime,ville varchar(255),pays varchar(255),url varchar(255),nom_entreprise varchar(255),salaire int,type_contrat varchar(255),categorie varchar(255),latitude float,longitude float);\"))\n",
    "    "
   ]
  },
  {
   "cell_type": "markdown",
   "metadata": {},
   "source": [
    "Récupération des données"
   ]
  },
  {
   "cell_type": "code",
   "execution_count": 32,
   "metadata": {},
   "outputs": [
    {
     "name": "stdout",
     "output_type": "stream",
     "text": [
      "Succès : 2\n",
      "Echec : 0\n"
     ]
    }
   ],
   "source": [
    "countries = [\"fr\"]\n",
    "results, success, failed = [], [], [] # Création de 3 listes, une pour les résultats, une pour la journalisation des succés et des échecs\n",
    "for country in countries:\n",
    "    for page in range(1, 3):\n",
    "        url = \"https://api.adzuna.com/v1/api/jobs/{3}/search/{0}?app_id={1}&app_key={2}\".format(page, appid, key, country)\n",
    "        req = requests.get(url)\n",
    "        if req.status_code == 200: # Si réponse positive, alors on récupère les données\n",
    "            try:\n",
    "                data = req.json()\n",
    "                results.append(data[\"results\"])\n",
    "            except:\n",
    "                failed.append(\"{} : {}\".format(country, page))\n",
    "                print(req.status_code, \" pour la page \", page, \"du pays \", country)\n",
    "            else:\n",
    "                success.append(\"{} : {}\".format(country, page))\n",
    "\n",
    "        else :\n",
    "            print(req.status_code, \" pour la page \", page, \"du pays \", country)\n",
    "\n",
    "print(f\"Succès : {len(success)}\\nEchec : {len(failed)}\")"
   ]
  },
  {
   "cell_type": "markdown",
   "metadata": {},
   "source": [
    "Importation des données V2 Flat"
   ]
  },
  {
   "cell_type": "code",
   "execution_count": 57,
   "metadata": {},
   "outputs": [
    {
     "name": "stdout",
     "output_type": "stream",
     "text": [
      "Success : 0\n",
      "Duplucate : 0\n",
      "Failed : 20\n",
      "[]\n"
     ]
    }
   ],
   "source": [
    "from flatten_json import flatten\n",
    "success_insert, duplicate_insert, failed_insert = 0, 0, 0\n",
    "columns = [\"id\", \"title\", \"created\", \"location_display_name\", \"location_area_0\", \"redirect_url\", \"company_display_name\", \"salary_is_predicted\", \"contract_type\", \"category_label\", \"latitude\", \"longitude\"]\n",
    "\n",
    "with engine.connect() as connection:\n",
    "    for page in results:\n",
    "        for annonce in page:\n",
    "            annonce_flatten = flatten(annonce)\n",
    "            \n",
    "        \n",
    "            date_creation = str(annonce['created']).replace(\"T\", \" \").replace(\"Z\", \"\")\n",
    "\n",
    "\n",
    "            text_columns = \"(\"\n",
    "            text_values = \"(\"\n",
    "            for column in columns:\n",
    "                if column in annonce_flatten.keys():\n",
    "                    text_columns = f\"{text_columns}{column}, \"\n",
    "                    if column == \"created\": #Si c'est une date je formate\n",
    "                        text_values = f'{text_values}\"{annonce_flatten[column].replace(\"T\", \" \").replace(\"Z\", \"\")}\", '\n",
    "                    elif column == \"id\" or column == \"salary_is_predicted\" or column == \"latitude\" or column == \"longitude\": # Si c'est un nom je récupère seulement\n",
    "                        text_values = f'{text_values}{annonce_flatten[column]}, '\n",
    "                    else: # Si c'est du texte, j'ajoute des double quotes\n",
    "                        text_values = f'{text_values}\"{annonce_flatten[column]}\", '\n",
    "\n",
    "            text_columns = text_columns[:-2] + \")\"\n",
    "            text_values = text_values[:-2] + \")\"\n",
    "\n",
    "            replacement = {\"title\" : \"nom_poste\", \"created\" : \"date_creation\", \"location_display_name\" : \"ville\", \"location_area_0\" : \"pays\", \"redirect_url\" : \"url\", \"company_display_name\" : \"nom_entreprise\", \"salary_is_predicted\" : \"salaire\", \"contract_type\" : \"type_contrat\", \"category_label\" : \"categorie\"}\n",
    "            for key, value in replacement.items():\n",
    "                text_columns = text_columns.replace(key, value)\n",
    "\n",
    "            request_text = f\"INSERT INTO POSTES {text_columns} VALUES {text_values}\"\n",
    "\n",
    "            \n",
    "\n",
    "        # On ajoute la ligne à la base de données\n",
    "            try:\n",
    "                connection.execute(text(request_text))\n",
    "            except:\n",
    "                failed_insert += 1\n",
    "            else:\n",
    "                success_insert += 1\n",
    "        \n",
    "    connection.commit()       \n",
    "    print(f\"Success : {success_insert}\\nDuplucate : {duplicate_insert}\\nFailed : {failed_insert}\")\n",
    "    print(resultat.fetchall())\n"
   ]
  }
 ],
 "metadata": {
  "kernelspec": {
   "display_name": "Python 3",
   "language": "python",
   "name": "python3"
  },
  "language_info": {
   "codemirror_mode": {
    "name": "ipython",
    "version": 3
   },
   "file_extension": ".py",
   "mimetype": "text/x-python",
   "name": "python",
   "nbconvert_exporter": "python",
   "pygments_lexer": "ipython3",
   "version": "3.12.2"
  }
 },
 "nbformat": 4,
 "nbformat_minor": 2
}
