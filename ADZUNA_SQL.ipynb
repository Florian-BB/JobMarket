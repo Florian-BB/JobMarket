{
 "cells": [
  {
   "cell_type": "code",
   "execution_count": null,
   "metadata": {},
   "outputs": [],
   "source": [
    "import requests\n",
    "import json\n",
    "import os\n",
    "\n",
    "# mettre son appID et sa key puis supprimer.\n",
    "appid = \"a5b42571\"\n",
    "key = \"1dc250b1f29e8bd11f6f3c5cb995bf71\"\n",
    "url = \"http://api.adzuna.com/v1/api/jobs/fr/categories?app_id={0}&app_key={1}&&content-type=application/json\".format(appid, key)\n",
    "req1 = requests.get(url).json()\n",
    "\n",
    "categories = req1[\"results\"]\n",
    "\n",
    "\n",
    "tags = [] # j'initie cette liste qui récupèrera les tags qui correspondent aux catégories\n",
    "\n",
    "for cat in categories:\n",
    "    tags.append(cat[\"tag\"]) # Pour chaque catégorie je récupère son tag\n",
    "\n",
    "print(tags)"
   ]
  }
 ],
 "metadata": {
  "language_info": {
   "name": "python"
  }
 },
 "nbformat": 4,
 "nbformat_minor": 2
}
